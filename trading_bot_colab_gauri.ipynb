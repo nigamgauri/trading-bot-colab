{
  "nbformat": 4,
  "nbformat_minor": 0,
  "metadata": {
    "colab": {
      "provenance": []
    },
    "kernelspec": {
      "name": "python3",
      "display_name": "Python 3"
    },
    "language_info": {
      "name": "python"
    }
  },
  "cells": [
    {
      "cell_type": "markdown",
      "source": [
        "# Trading Bot – Binance Futures Testnet  \n",
        "**Candidate:** Gauri Nigam  \n",
        "**Email:** nigamgauri24@gmail.com  \n",
        "\n",
        "This project is a simplified trading bot built in Python using the Binance Futures Testnet. It was designed as part of a technical assignment to demonstrate basic automation of trading actions like placing market, limit, and stop-limit orders.\n",
        "\n",
        "---\n",
        "\n",
        "## What the Bot Does\n",
        "\n",
        "- Connects to the Binance Futures Testnet using your API credentials  \n",
        "- Lets you place **market**, **limit**, or **stop-limit** orders  \n",
        "- Supports both **buy** and **sell** sides  \n",
        "- Accepts user input via simple command-line prompts  \n",
        "- Handles errors and logs order details automatically\n",
        "\n",
        "---\n",
        "\n",
        "## How to Use It (on Google Colab)\n",
        "\n",
        "1. Run the first cell to install required libraries (`python-binance`)\n",
        "2. Run the next cell to define the `BasicBot` class\n",
        "3. Enter your Binance **Testnet API key and secret** (not your real one!)\n",
        "4. Follow the command-line prompts to place an order:\n",
        "   - Choose order type\n",
        "   - Enter pair, side, quantity, and price (if needed)\n",
        "5. You'll get order details in the output and logs in `bot.log`\n",
        "\n",
        "---\n",
        "\n",
        "This is a beginner-friendly trading bot, designed with clean structure, error handling, and logging — and leaves room for adding more advanced features like OCO, TWAP, or a basic UI.\n"
      ],
      "metadata": {
        "id": "jeM_dAvknFMD"
      }
    },
    {
      "cell_type": "code",
      "source": [
        "!pip install python-binance"
      ],
      "metadata": {
        "colab": {
          "base_uri": "https://localhost:8080/"
        },
        "id": "Sr0vSySamucl",
        "outputId": "cbcbd0de-3522-46f8-ce23-364458896ad6"
      },
      "execution_count": 1,
      "outputs": [
        {
          "output_type": "stream",
          "name": "stdout",
          "text": [
            "Collecting python-binance\n",
            "  Downloading python_binance-1.0.29-py2.py3-none-any.whl.metadata (13 kB)\n",
            "Requirement already satisfied: requests in /usr/local/lib/python3.11/dist-packages (from python-binance) (2.32.3)\n",
            "Requirement already satisfied: six in /usr/local/lib/python3.11/dist-packages (from python-binance) (1.17.0)\n",
            "Collecting dateparser (from python-binance)\n",
            "  Downloading dateparser-1.2.2-py3-none-any.whl.metadata (29 kB)\n",
            "Requirement already satisfied: aiohttp in /usr/local/lib/python3.11/dist-packages (from python-binance) (3.11.15)\n",
            "Requirement already satisfied: websockets in /usr/local/lib/python3.11/dist-packages (from python-binance) (15.0.1)\n",
            "Collecting pycryptodome (from python-binance)\n",
            "  Downloading pycryptodome-3.23.0-cp37-abi3-manylinux_2_17_x86_64.manylinux2014_x86_64.whl.metadata (3.4 kB)\n",
            "Requirement already satisfied: aiohappyeyeballs>=2.3.0 in /usr/local/lib/python3.11/dist-packages (from aiohttp->python-binance) (2.6.1)\n",
            "Requirement already satisfied: aiosignal>=1.1.2 in /usr/local/lib/python3.11/dist-packages (from aiohttp->python-binance) (1.3.2)\n",
            "Requirement already satisfied: attrs>=17.3.0 in /usr/local/lib/python3.11/dist-packages (from aiohttp->python-binance) (25.3.0)\n",
            "Requirement already satisfied: frozenlist>=1.1.1 in /usr/local/lib/python3.11/dist-packages (from aiohttp->python-binance) (1.7.0)\n",
            "Requirement already satisfied: multidict<7.0,>=4.5 in /usr/local/lib/python3.11/dist-packages (from aiohttp->python-binance) (6.6.3)\n",
            "Requirement already satisfied: propcache>=0.2.0 in /usr/local/lib/python3.11/dist-packages (from aiohttp->python-binance) (0.3.2)\n",
            "Requirement already satisfied: yarl<2.0,>=1.17.0 in /usr/local/lib/python3.11/dist-packages (from aiohttp->python-binance) (1.20.1)\n",
            "Requirement already satisfied: python-dateutil>=2.7.0 in /usr/local/lib/python3.11/dist-packages (from dateparser->python-binance) (2.9.0.post0)\n",
            "Requirement already satisfied: pytz>=2024.2 in /usr/local/lib/python3.11/dist-packages (from dateparser->python-binance) (2025.2)\n",
            "Requirement already satisfied: regex>=2024.9.11 in /usr/local/lib/python3.11/dist-packages (from dateparser->python-binance) (2024.11.6)\n",
            "Requirement already satisfied: tzlocal>=0.2 in /usr/local/lib/python3.11/dist-packages (from dateparser->python-binance) (5.3.1)\n",
            "Requirement already satisfied: charset-normalizer<4,>=2 in /usr/local/lib/python3.11/dist-packages (from requests->python-binance) (3.4.2)\n",
            "Requirement already satisfied: idna<4,>=2.5 in /usr/local/lib/python3.11/dist-packages (from requests->python-binance) (3.10)\n",
            "Requirement already satisfied: urllib3<3,>=1.21.1 in /usr/local/lib/python3.11/dist-packages (from requests->python-binance) (2.4.0)\n",
            "Requirement already satisfied: certifi>=2017.4.17 in /usr/local/lib/python3.11/dist-packages (from requests->python-binance) (2025.6.15)\n",
            "Downloading python_binance-1.0.29-py2.py3-none-any.whl (130 kB)\n",
            "\u001b[2K   \u001b[90m━━━━━━━━━━━━━━━━━━━━━━━━━━━━━━━━━━━━━━━━\u001b[0m \u001b[32m130.8/130.8 kB\u001b[0m \u001b[31m6.0 MB/s\u001b[0m eta \u001b[36m0:00:00\u001b[0m\n",
            "\u001b[?25hDownloading dateparser-1.2.2-py3-none-any.whl (315 kB)\n",
            "\u001b[2K   \u001b[90m━━━━━━━━━━━━━━━━━━━━━━━━━━━━━━━━━━━━━━━━\u001b[0m \u001b[32m315.5/315.5 kB\u001b[0m \u001b[31m13.2 MB/s\u001b[0m eta \u001b[36m0:00:00\u001b[0m\n",
            "\u001b[?25hDownloading pycryptodome-3.23.0-cp37-abi3-manylinux_2_17_x86_64.manylinux2014_x86_64.whl (2.3 MB)\n",
            "\u001b[2K   \u001b[90m━━━━━━━━━━━━━━━━━━━━━━━━━━━━━━━━━━━━━━━━\u001b[0m \u001b[32m2.3/2.3 MB\u001b[0m \u001b[31m44.6 MB/s\u001b[0m eta \u001b[36m0:00:00\u001b[0m\n",
            "\u001b[?25hInstalling collected packages: pycryptodome, dateparser, python-binance\n",
            "Successfully installed dateparser-1.2.2 pycryptodome-3.23.0 python-binance-1.0.29\n"
          ]
        }
      ]
    },
    {
      "cell_type": "code",
      "source": [
        "from binance.client import Client\n",
        "import logging\n",
        "\n",
        "class BasicBot:\n",
        "    def __init__(self, api_key, api_secret, testnet=True):\n",
        "        self.client = Client(api_key, api_secret, testnet=testnet)\n",
        "        self.client.FUTURES_URL = 'https://testnet.binancefuture.com/fapi'\n",
        "        logging.basicConfig(filename='bot.log', level=logging.INFO)\n",
        "\n",
        "    def place_market_order(self, symbol, side, quantity):\n",
        "        try:\n",
        "            order = self.client.futures_create_order(\n",
        "                symbol=symbol,\n",
        "                side=side,\n",
        "                type='MARKET',\n",
        "                quantity=quantity\n",
        "            )\n",
        "            logging.info(f\"Market Order: {order}\")\n",
        "            return order\n",
        "        except Exception as e:\n",
        "            logging.error(f\"Market Order Error: {e}\")\n",
        "            return None\n",
        "\n",
        "    def place_limit_order(self, symbol, side, quantity, price):\n",
        "        try:\n",
        "            order = self.client.futures_create_order(\n",
        "                symbol=symbol,\n",
        "                side=side,\n",
        "                type='LIMIT',\n",
        "                timeInForce='GTC',\n",
        "                quantity=quantity,\n",
        "                price=price\n",
        "            )\n",
        "            logging.info(f\"Limit Order: {order}\")\n",
        "            return order\n",
        "        except Exception as e:\n",
        "            logging.error(f\"Limit Order Error: {e}\")\n",
        "            return None\n",
        "\n",
        "    def place_stop_limit_order(self, symbol, side, quantity, stop_price, limit_price):\n",
        "       try:\n",
        "          order = self.client.futures_create_order(\n",
        "             symbol=symbol,\n",
        "             side=side,\n",
        "             type='STOP',\n",
        "             timeInForce='GTC',\n",
        "             quantity=quantity,\n",
        "             price=limit_price,\n",
        "             stopPrice=stop_price,\n",
        "             workingType='MARK_PRICE'\n",
        "          )\n",
        "          logging.info(f\"Stop-Limit Order: {order}\")\n",
        "          return order\n",
        "       except Exception as e:\n",
        "          logging.error(f\"Stop-Limit Order Error: {e}\")\n",
        "          return None\n"
      ],
      "metadata": {
        "id": "gvTew7Y0o1vm"
      },
      "execution_count": 2,
      "outputs": []
    },
    {
      "cell_type": "code",
      "source": [
        "api_key = \"1902fbb3738f9cbe4e1879f4cbf43e7fa178b07e855a7eb358b08849119d1270\"\n",
        "api_secret = \"45fe0cc9a64778184ed2422bdf0910ad043046003078135b32810f7ab5a1a018\"\n",
        "\n",
        "bot = BasicBot(api_key, api_secret)\n",
        "\n",
        "symbol = \"BTCUSDT\"\n",
        "side = \"BUY\"\n",
        "quantity = 0.001  # Small value for testing\n",
        "\n",
        "result = bot.place_market_order(symbol, side, quantity)\n",
        "\n",
        "print(result)\n"
      ],
      "metadata": {
        "colab": {
          "base_uri": "https://localhost:8080/"
        },
        "id": "wm3pyyHuo-Wc",
        "outputId": "f556c105-7893-4811-acdf-ab182ba205de"
      },
      "execution_count": 3,
      "outputs": [
        {
          "output_type": "stream",
          "name": "stdout",
          "text": [
            "{'orderId': 5228886476, 'symbol': 'BTCUSDT', 'status': 'NEW', 'clientOrderId': 'x-Cb7ytekJ5a81ed2bc9c1125ba0a334', 'price': '0.00', 'avgPrice': '0.00', 'origQty': '0.001', 'executedQty': '0.000', 'cumQty': '0.000', 'cumQuote': '0.00000', 'timeInForce': 'GTC', 'type': 'MARKET', 'reduceOnly': False, 'closePosition': False, 'side': 'BUY', 'positionSide': 'BOTH', 'stopPrice': '0.00', 'workingType': 'CONTRACT_PRICE', 'priceProtect': False, 'origType': 'MARKET', 'priceMatch': 'NONE', 'selfTradePreventionMode': 'EXPIRE_MAKER', 'goodTillDate': 0, 'updateTime': 1752038021188}\n"
          ]
        }
      ]
    },
    {
      "cell_type": "code",
      "source": [
        "order_id = result['orderId']\n",
        "status = bot.client.futures_get_order(symbol=\"BTCUSDT\", orderId=order_id)\n",
        "print(status)\n"
      ],
      "metadata": {
        "colab": {
          "base_uri": "https://localhost:8080/"
        },
        "id": "tq8NV88VpVoR",
        "outputId": "4a4fade4-535f-4e04-8554-360a56259850"
      },
      "execution_count": 4,
      "outputs": [
        {
          "output_type": "stream",
          "name": "stdout",
          "text": [
            "{'orderId': 5228886476, 'symbol': 'BTCUSDT', 'status': 'FILLED', 'clientOrderId': 'x-Cb7ytekJ5a81ed2bc9c1125ba0a334', 'price': '0.00', 'avgPrice': '108491.80000', 'origQty': '0.001', 'executedQty': '0.001', 'cumQuote': '108.49180', 'timeInForce': 'GTC', 'type': 'MARKET', 'reduceOnly': False, 'closePosition': False, 'side': 'BUY', 'positionSide': 'BOTH', 'stopPrice': '0.00', 'workingType': 'CONTRACT_PRICE', 'priceProtect': False, 'origType': 'MARKET', 'priceMatch': 'NONE', 'selfTradePreventionMode': 'EXPIRE_MAKER', 'goodTillDate': 0, 'time': 1752038021188, 'updateTime': 1752038021188}\n"
          ]
        }
      ]
    },
    {
      "cell_type": "code",
      "source": [
        "symbol = \"BTCUSDT\"\n",
        "side = \"SELL\"\n",
        "quantity = 0.01\n",
        "price = \"12000\"\n",
        "\n",
        "order = bot.place_limit_order(symbol, side, quantity, price)\n",
        "print(order)"
      ],
      "metadata": {
        "colab": {
          "base_uri": "https://localhost:8080/"
        },
        "id": "eDn422s_phM9",
        "outputId": "e343d012-f78c-428c-d65e-ffee665c7331"
      },
      "execution_count": 5,
      "outputs": [
        {
          "output_type": "stream",
          "name": "stderr",
          "text": [
            "ERROR:root:Limit Order Error: APIError(code=-4024): Limit price can't be lower than 54236.56.\n"
          ]
        },
        {
          "output_type": "stream",
          "name": "stdout",
          "text": [
            "None\n"
          ]
        }
      ]
    },
    {
      "cell_type": "code",
      "source": [
        "symbol = \"BTCUSDT\"\n",
        "side = \"SELL\"\n",
        "quantity = 0.01\n",
        "price = \"54120\"  # A little above the error limit\n",
        "\n",
        "order = bot.place_limit_order(symbol, side, quantity, price)\n",
        "print(order)"
      ],
      "metadata": {
        "colab": {
          "base_uri": "https://localhost:8080/"
        },
        "id": "AxUPkh2jqBsW",
        "outputId": "eb1cae79-d453-467d-9a49-ed31685d3366"
      },
      "execution_count": 6,
      "outputs": [
        {
          "output_type": "stream",
          "name": "stderr",
          "text": [
            "ERROR:root:Limit Order Error: APIError(code=-4024): Limit price can't be lower than 54236.60.\n"
          ]
        },
        {
          "output_type": "stream",
          "name": "stdout",
          "text": [
            "None\n"
          ]
        }
      ]
    },
    {
      "cell_type": "code",
      "source": [
        "order = bot.place_stop_limit_order(\n",
        "    symbol=\"BTCUSDT\",\n",
        "    side=\"SELL\",\n",
        "    quantity=0.01,\n",
        "    stop_price=\"54000\",\n",
        "    limit_price=\"53990\"   # Price to sell at\n",
        ")\n",
        "print(order)"
      ],
      "metadata": {
        "colab": {
          "base_uri": "https://localhost:8080/"
        },
        "id": "lfQmpLzBqZ-M",
        "outputId": "20e3e5cf-64b7-49d0-9113-d87580e88c8e"
      },
      "execution_count": 7,
      "outputs": [
        {
          "output_type": "stream",
          "name": "stdout",
          "text": [
            "{'orderId': 5228886905, 'symbol': 'BTCUSDT', 'status': 'NEW', 'clientOrderId': 'x-Cb7ytekJ448b8903d0963d2da4741e', 'price': '53990.00', 'avgPrice': '0.00', 'origQty': '0.010', 'executedQty': '0.000', 'cumQty': '0.000', 'cumQuote': '0.00000', 'timeInForce': 'GTC', 'type': 'STOP', 'reduceOnly': False, 'closePosition': False, 'side': 'SELL', 'positionSide': 'BOTH', 'stopPrice': '54000.00', 'workingType': 'MARK_PRICE', 'priceProtect': False, 'origType': 'STOP', 'priceMatch': 'NONE', 'selfTradePreventionMode': 'EXPIRE_MAKER', 'goodTillDate': 0, 'updateTime': 1752038025845}\n"
          ]
        }
      ]
    },
    {
      "cell_type": "code",
      "source": [
        "order = bot.place_stop_limit_order(\n",
        "    symbol=\"BTCUSDT\",\n",
        "    side=\"SELL\",\n",
        "    quantity=0.01,\n",
        "    stop_price=\"54150\",\n",
        "    limit_price=\"54140\"\n",
        ")\n",
        "print(order)"
      ],
      "metadata": {
        "colab": {
          "base_uri": "https://localhost:8080/"
        },
        "id": "5gzAp3Xgq1uE",
        "outputId": "c46728a0-29bd-4dd0-ed39-4e0b2525db0e"
      },
      "execution_count": 8,
      "outputs": [
        {
          "output_type": "stream",
          "name": "stdout",
          "text": [
            "{'orderId': 5228886975, 'symbol': 'BTCUSDT', 'status': 'NEW', 'clientOrderId': 'x-Cb7ytekJ6d195a11ab7cb9b8e93489', 'price': '54140.00', 'avgPrice': '0.00', 'origQty': '0.010', 'executedQty': '0.000', 'cumQty': '0.000', 'cumQuote': '0.00000', 'timeInForce': 'GTC', 'type': 'STOP', 'reduceOnly': False, 'closePosition': False, 'side': 'SELL', 'positionSide': 'BOTH', 'stopPrice': '54150.00', 'workingType': 'MARK_PRICE', 'priceProtect': False, 'origType': 'STOP', 'priceMatch': 'NONE', 'selfTradePreventionMode': 'EXPIRE_MAKER', 'goodTillDate': 0, 'updateTime': 1752038026949}\n"
          ]
        }
      ]
    },
    {
      "cell_type": "code",
      "source": [
        "order_type = input(\"Enter order type (MARKET / LIMIT / STOP_LIMIT): \").upper()\n",
        "symbol = input(\"Enter trading pair (e.g., BTCUSDT): \").upper()\n",
        "side = input(\"Enter side (BUY or SELL): \").upper()\n",
        "quantity = float(input(\"Enter quantity: \"))\n",
        "\n",
        "if order_type == \"MARKET\":\n",
        "    result = bot.place_market_order(symbol, side, quantity)\n",
        "\n",
        "elif order_type == \"LIMIT\":\n",
        "    price = input(\"Enter limit price: \")\n",
        "    result = bot.place_limit_order(symbol, side, quantity, price)\n",
        "\n",
        "elif order_type == \"STOP_LIMIT\":\n",
        "    stop_price = input(\"Enter stop price: \")\n",
        "    limit_price = input(\"Enter limit price: \")\n",
        "    result = bot.place_stop_limit_order(symbol, side, quantity, stop_price, limit_price)\n",
        "\n",
        "else:\n",
        "    print(\"Invalid order type.\")\n",
        "    result = None\n",
        "\n",
        "if result:\n",
        "    print(\"Order placed successfully:\")\n",
        "    print(result)\n",
        "else:\n",
        "    print(\"Order failed. Check logs for details.\")\n"
      ],
      "metadata": {
        "colab": {
          "base_uri": "https://localhost:8080/"
        },
        "id": "uA7B2bHdr0Nm",
        "outputId": "0251472e-14e8-4eec-e2bf-b23ac29332ca"
      },
      "execution_count": 13,
      "outputs": [
        {
          "output_type": "stream",
          "name": "stdout",
          "text": [
            "Enter order type (MARKET / LIMIT / STOP_LIMIT): MARKET\n",
            "Enter trading pair (e.g., BTCUSDT): BTCUSDT\n",
            "Enter side (BUY or SELL): BUY\n",
            "Enter quantity: 0.01\n",
            "Order placed successfully:\n",
            "{'orderId': 5226448730, 'symbol': 'BTCUSDT', 'status': 'NEW', 'clientOrderId': 'x-Cb7ytekJe57c115d3f71dd193a3089', 'price': '0.00', 'avgPrice': '0.00', 'origQty': '0.010', 'executedQty': '0.000', 'cumQty': '0.000', 'cumQuote': '0.00000', 'timeInForce': 'GTC', 'type': 'MARKET', 'reduceOnly': False, 'closePosition': False, 'side': 'BUY', 'positionSide': 'BOTH', 'stopPrice': '0.00', 'workingType': 'CONTRACT_PRICE', 'priceProtect': False, 'origType': 'MARKET', 'priceMatch': 'NONE', 'selfTradePreventionMode': 'EXPIRE_MAKER', 'goodTillDate': 0, 'updateTime': 1751999198829}\n"
          ]
        }
      ]
    }
  ]
}